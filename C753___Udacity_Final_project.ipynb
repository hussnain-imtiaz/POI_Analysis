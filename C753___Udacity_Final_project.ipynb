{
  "nbformat": 4,
  "nbformat_minor": 0,
  "metadata": {
    "colab": {
      "name": "C753 | Udacity Final project.ipynb",
      "provenance": [],
      "collapsed_sections": []
    },
    "kernelspec": {
      "name": "python3",
      "display_name": "Python 3"
    },
    "language_info": {
      "name": "python"
    },
    "widgets": {
      "application/vnd.jupyter.widget-state+json": {
        "5f66ec30dafc4dd6ae789f78379f14dd": {
          "model_module": "@jupyter-widgets/controls",
          "model_name": "IntProgressModel",
          "model_module_version": "1.5.0",
          "state": {
            "_view_name": "ProgressView",
            "style": "IPY_MODEL_29819c3ef1df41f4b61cad75f3399f12",
            "_dom_classes": [],
            "description": "Processing: ",
            "_model_name": "IntProgressModel",
            "bar_style": "",
            "max": 3,
            "_view_module": "@jupyter-widgets/controls",
            "_model_module_version": "1.5.0",
            "value": 3,
            "_view_count": null,
            "_view_module_version": "1.5.0",
            "orientation": "horizontal",
            "min": 0,
            "description_tooltip": null,
            "_model_module": "@jupyter-widgets/controls",
            "layout": "IPY_MODEL_4121e8c0b2f0451fa45af69c4913e6b7"
          }
        },
        "29819c3ef1df41f4b61cad75f3399f12": {
          "model_module": "@jupyter-widgets/controls",
          "model_name": "ProgressStyleModel",
          "model_module_version": "1.5.0",
          "state": {
            "_view_name": "StyleView",
            "_model_name": "ProgressStyleModel",
            "description_width": "",
            "_view_module": "@jupyter-widgets/base",
            "_model_module_version": "1.5.0",
            "_view_count": null,
            "_view_module_version": "1.2.0",
            "bar_color": null,
            "_model_module": "@jupyter-widgets/controls"
          }
        },
        "4121e8c0b2f0451fa45af69c4913e6b7": {
          "model_module": "@jupyter-widgets/base",
          "model_name": "LayoutModel",
          "model_module_version": "1.2.0",
          "state": {
            "_view_name": "LayoutView",
            "grid_template_rows": null,
            "right": null,
            "justify_content": null,
            "_view_module": "@jupyter-widgets/base",
            "overflow": null,
            "_model_module_version": "1.2.0",
            "_view_count": null,
            "flex_flow": null,
            "width": null,
            "min_width": null,
            "border": null,
            "align_items": null,
            "bottom": null,
            "_model_module": "@jupyter-widgets/base",
            "top": null,
            "grid_column": null,
            "overflow_y": null,
            "overflow_x": null,
            "grid_auto_flow": null,
            "grid_area": null,
            "grid_template_columns": null,
            "flex": null,
            "_model_name": "LayoutModel",
            "justify_items": null,
            "grid_row": null,
            "max_height": null,
            "align_content": null,
            "visibility": null,
            "align_self": null,
            "height": null,
            "min_height": null,
            "padding": null,
            "grid_auto_rows": null,
            "grid_gap": null,
            "max_width": null,
            "order": null,
            "_view_module_version": "1.2.0",
            "grid_template_areas": null,
            "object_position": null,
            "object_fit": null,
            "grid_auto_columns": null,
            "margin": null,
            "display": null,
            "left": null
          }
        },
        "74e38437d46449aca2cf8af3a20ac624": {
          "model_module": "@jupyter-widgets/controls",
          "model_name": "TextModel",
          "model_module_version": "1.5.0",
          "state": {
            "_view_name": "TextView",
            "style": "IPY_MODEL_5bbc3f52607345d6a927a3e6743d24bf",
            "_dom_classes": [],
            "description": "",
            "_model_name": "TextModel",
            "placeholder": "​",
            "_view_module": "@jupyter-widgets/controls",
            "_model_module_version": "1.5.0",
            "value": "Following data types have been inferred automatically, if they are correct press enter to continue or type 'quit' otherwise.",
            "_view_count": null,
            "disabled": false,
            "_view_module_version": "1.5.0",
            "continuous_update": true,
            "description_tooltip": null,
            "_model_module": "@jupyter-widgets/controls",
            "layout": "IPY_MODEL_bb4b357a14bb4f93a62dcb3d2e97afeb"
          }
        },
        "5bbc3f52607345d6a927a3e6743d24bf": {
          "model_module": "@jupyter-widgets/controls",
          "model_name": "DescriptionStyleModel",
          "model_module_version": "1.5.0",
          "state": {
            "_view_name": "StyleView",
            "_model_name": "DescriptionStyleModel",
            "description_width": "",
            "_view_module": "@jupyter-widgets/base",
            "_model_module_version": "1.5.0",
            "_view_count": null,
            "_view_module_version": "1.2.0",
            "_model_module": "@jupyter-widgets/controls"
          }
        },
        "bb4b357a14bb4f93a62dcb3d2e97afeb": {
          "model_module": "@jupyter-widgets/base",
          "model_name": "LayoutModel",
          "model_module_version": "1.2.0",
          "state": {
            "_view_name": "LayoutView",
            "grid_template_rows": null,
            "right": null,
            "justify_content": null,
            "_view_module": "@jupyter-widgets/base",
            "overflow": null,
            "_model_module_version": "1.2.0",
            "_view_count": null,
            "flex_flow": null,
            "width": "100%",
            "min_width": null,
            "border": null,
            "align_items": null,
            "bottom": null,
            "_model_module": "@jupyter-widgets/base",
            "top": null,
            "grid_column": null,
            "overflow_y": null,
            "overflow_x": null,
            "grid_auto_flow": null,
            "grid_area": null,
            "grid_template_columns": null,
            "flex": null,
            "_model_name": "LayoutModel",
            "justify_items": null,
            "grid_row": null,
            "max_height": null,
            "align_content": null,
            "visibility": null,
            "align_self": null,
            "height": null,
            "min_height": null,
            "padding": null,
            "grid_auto_rows": null,
            "grid_gap": null,
            "max_width": null,
            "order": null,
            "_view_module_version": "1.2.0",
            "grid_template_areas": null,
            "object_position": null,
            "object_fit": null,
            "grid_auto_columns": null,
            "margin": null,
            "display": null,
            "left": null
          }
        },
        "41c936b54dae40fdbe30557b58a556b1": {
          "model_module": "@jupyter-widgets/controls",
          "model_name": "IntProgressModel",
          "model_module_version": "1.5.0",
          "state": {
            "_view_name": "ProgressView",
            "style": "IPY_MODEL_ad906769f82442658320caedc30a4f2a",
            "_dom_classes": [],
            "description": "Processing: ",
            "_model_name": "IntProgressModel",
            "bar_style": "",
            "max": 74,
            "_view_module": "@jupyter-widgets/controls",
            "_model_module_version": "1.5.0",
            "value": 74,
            "_view_count": null,
            "_view_module_version": "1.5.0",
            "orientation": "horizontal",
            "min": 0,
            "description_tooltip": null,
            "_model_module": "@jupyter-widgets/controls",
            "layout": "IPY_MODEL_18f902890cf64cd0989436518e80b032"
          }
        },
        "ad906769f82442658320caedc30a4f2a": {
          "model_module": "@jupyter-widgets/controls",
          "model_name": "ProgressStyleModel",
          "model_module_version": "1.5.0",
          "state": {
            "_view_name": "StyleView",
            "_model_name": "ProgressStyleModel",
            "description_width": "",
            "_view_module": "@jupyter-widgets/base",
            "_model_module_version": "1.5.0",
            "_view_count": null,
            "_view_module_version": "1.2.0",
            "bar_color": null,
            "_model_module": "@jupyter-widgets/controls"
          }
        },
        "18f902890cf64cd0989436518e80b032": {
          "model_module": "@jupyter-widgets/base",
          "model_name": "LayoutModel",
          "model_module_version": "1.2.0",
          "state": {
            "_view_name": "LayoutView",
            "grid_template_rows": null,
            "right": null,
            "justify_content": null,
            "_view_module": "@jupyter-widgets/base",
            "overflow": null,
            "_model_module_version": "1.2.0",
            "_view_count": null,
            "flex_flow": null,
            "width": null,
            "min_width": null,
            "border": null,
            "align_items": null,
            "bottom": null,
            "_model_module": "@jupyter-widgets/base",
            "top": null,
            "grid_column": null,
            "overflow_y": null,
            "overflow_x": null,
            "grid_auto_flow": null,
            "grid_area": null,
            "grid_template_columns": null,
            "flex": null,
            "_model_name": "LayoutModel",
            "justify_items": null,
            "grid_row": null,
            "max_height": null,
            "align_content": null,
            "visibility": null,
            "align_self": null,
            "height": null,
            "min_height": null,
            "padding": null,
            "grid_auto_rows": null,
            "grid_gap": null,
            "max_width": null,
            "order": null,
            "_view_module_version": "1.2.0",
            "grid_template_areas": null,
            "object_position": null,
            "object_fit": null,
            "grid_auto_columns": null,
            "margin": null,
            "display": null,
            "left": null
          }
        }
      }
    }
  },
  "cells": [
    {
      "cell_type": "markdown",
      "source": [
        "# Installing all the required tools:\n",
        "Any missing tool(s) can be installed by using pip command. \n"
      ],
      "metadata": {
        "id": "mYIKM1DSLHt8"
      }
    },
    {
      "cell_type": "code",
      "source": [
        "#!pip install pycaret\n",
        "#!pip install numpy\n",
        "#!pip install pandas matplotlib seaborn sklearn"
      ],
      "metadata": {
        "id": "yxm_w0sBSKwy"
      },
      "execution_count": null,
      "outputs": []
    },
    {
      "cell_type": "markdown",
      "source": [
        "# 2. Getting the Tools Ready:"
      ],
      "metadata": {
        "id": "mUl5z-IWLnSJ"
      }
    },
    {
      "cell_type": "code",
      "source": [
        "import pandas as pd\n",
        "import sys\n",
        "import numpy as np\n",
        "import pickle\n",
        "from pycaret.classification import * \n",
        "import seaborn as sns\n",
        "import matplotlib.pyplot as plt\n",
        "\n",
        "from final_project.tester import dump_classifier_and_data\n",
        "from tools.feature_format import featureFormat, targetFeatureSplit\n",
        "\n",
        "\n",
        "# Provided to give you a starting point. Try a variety of classifiers.\n",
        "from sklearn.naive_bayes import GaussianNB\n",
        "from sklearn.svm import SVC\n",
        "from sklearn.linear_model import LogisticRegression\n",
        "from sklearn.ensemble import RandomForestClassifier\n",
        "from final_project.tester import test_classifier\n",
        "from sklearn.ensemble import GradientBoostingClassifier\n",
        "from sklearn.tree import DecisionTreeClassifier"
      ],
      "metadata": {
        "id": "JSbclPXiuiXd"
      },
      "execution_count": 21,
      "outputs": []
    },
    {
      "cell_type": "markdown",
      "source": [
        "# 3. Loading the data:"
      ],
      "metadata": {
        "id": "PEOdGVgYLxRh"
      }
    },
    {
      "cell_type": "code",
      "source": [
        "### Load the dictionary containing the dataset\n",
        "with open(\"/content/final_project/final_project_dataset.pkl\", \"rb\") as data_file:\n",
        "    data_dict = pickle.load(data_file)"
      ],
      "metadata": {
        "id": "z4ANdoUHLwPM"
      },
      "execution_count": 22,
      "outputs": []
    },
    {
      "cell_type": "markdown",
      "source": [
        "# 4. Getting the data Ready:"
      ],
      "metadata": {
        "id": "qo8QahofL4G7"
      }
    },
    {
      "cell_type": "markdown",
      "source": [
        "In the intial run we will take all the available features and then based on analysis report we will select the best ones. "
      ],
      "metadata": {
        "id": "fjzZgpj6MFKy"
      }
    },
    {
      "cell_type": "code",
      "source": [
        "### Task 1: Select what features you'll use.\n",
        "### features_list is a list of strings, each of which is a feature name.\n",
        "### The first feature must be \"poi\".\n",
        "features_list = ['poi', 'salary', 'deferral_payments', 'total_payments', 'loan_advances',\n",
        "                 'bonus', 'restricted_stock_deferred', 'deferred_income',\n",
        "                 'total_stock_value', 'expenses', 'exercised_stock_options',\n",
        "                 'other', 'long_term_incentive', 'restricted_stock', 'director_fees',\n",
        "                 'to_messages', 'from_poi_to_this_person', 'from_messages',\n",
        "                 'from_this_person_to_poi', 'shared_receipt_with_poi'] "
      ],
      "metadata": {
        "id": "wvXCwNYVL2TF"
      },
      "execution_count": 23,
      "outputs": []
    },
    {
      "cell_type": "code",
      "source": [
        "### Store to my_dataset for easy export below.\n",
        "my_dataset = data_dict\n",
        "\n",
        "### Extract features and labels from dataset for local testing\n",
        "data = featureFormat(my_dataset, features_list, sort_keys = True)\n",
        "\n",
        "### converting the data to df for some analysis and exploration\n",
        "my_data = pd.DataFrame(data, columns=features_list)\n",
        "my_data.head()"
      ],
      "metadata": {
        "id": "jMT6rxQ-usfH",
        "colab": {
          "base_uri": "https://localhost:8080/",
          "height": 270
        },
        "outputId": "95905743-a1ff-46eb-e337-c99bd4938afc"
      },
      "execution_count": 48,
      "outputs": [
        {
          "output_type": "execute_result",
          "data": {
            "text/html": [
              "\n",
              "  <div id=\"df-967a1d80-89f3-4430-9196-7fbcc88d355c\">\n",
              "    <div class=\"colab-df-container\">\n",
              "      <div>\n",
              "<style scoped>\n",
              "    .dataframe tbody tr th:only-of-type {\n",
              "        vertical-align: middle;\n",
              "    }\n",
              "\n",
              "    .dataframe tbody tr th {\n",
              "        vertical-align: top;\n",
              "    }\n",
              "\n",
              "    .dataframe thead th {\n",
              "        text-align: right;\n",
              "    }\n",
              "</style>\n",
              "<table border=\"1\" class=\"dataframe\">\n",
              "  <thead>\n",
              "    <tr style=\"text-align: right;\">\n",
              "      <th></th>\n",
              "      <th>poi</th>\n",
              "      <th>salary</th>\n",
              "      <th>deferral_payments</th>\n",
              "      <th>total_payments</th>\n",
              "      <th>loan_advances</th>\n",
              "      <th>bonus</th>\n",
              "      <th>restricted_stock_deferred</th>\n",
              "      <th>deferred_income</th>\n",
              "      <th>total_stock_value</th>\n",
              "      <th>expenses</th>\n",
              "      <th>exercised_stock_options</th>\n",
              "      <th>other</th>\n",
              "      <th>long_term_incentive</th>\n",
              "      <th>restricted_stock</th>\n",
              "      <th>director_fees</th>\n",
              "      <th>to_messages</th>\n",
              "      <th>from_poi_to_this_person</th>\n",
              "      <th>from_messages</th>\n",
              "      <th>from_this_person_to_poi</th>\n",
              "      <th>shared_receipt_with_poi</th>\n",
              "    </tr>\n",
              "  </thead>\n",
              "  <tbody>\n",
              "    <tr>\n",
              "      <th>0</th>\n",
              "      <td>0.0</td>\n",
              "      <td>201955.0</td>\n",
              "      <td>2869717.0</td>\n",
              "      <td>4484442.0</td>\n",
              "      <td>0.0</td>\n",
              "      <td>4175000.0</td>\n",
              "      <td>-126027.0</td>\n",
              "      <td>-3081055.0</td>\n",
              "      <td>1729541.0</td>\n",
              "      <td>13868.0</td>\n",
              "      <td>1729541.0</td>\n",
              "      <td>152.0</td>\n",
              "      <td>304805.0</td>\n",
              "      <td>126027.0</td>\n",
              "      <td>0.0</td>\n",
              "      <td>2902.0</td>\n",
              "      <td>47.0</td>\n",
              "      <td>2195.0</td>\n",
              "      <td>65.0</td>\n",
              "      <td>1407.0</td>\n",
              "    </tr>\n",
              "    <tr>\n",
              "      <th>1</th>\n",
              "      <td>0.0</td>\n",
              "      <td>0.0</td>\n",
              "      <td>178980.0</td>\n",
              "      <td>182466.0</td>\n",
              "      <td>0.0</td>\n",
              "      <td>0.0</td>\n",
              "      <td>0.0</td>\n",
              "      <td>0.0</td>\n",
              "      <td>257817.0</td>\n",
              "      <td>3486.0</td>\n",
              "      <td>257817.0</td>\n",
              "      <td>0.0</td>\n",
              "      <td>0.0</td>\n",
              "      <td>0.0</td>\n",
              "      <td>0.0</td>\n",
              "      <td>0.0</td>\n",
              "      <td>0.0</td>\n",
              "      <td>0.0</td>\n",
              "      <td>0.0</td>\n",
              "      <td>0.0</td>\n",
              "    </tr>\n",
              "    <tr>\n",
              "      <th>2</th>\n",
              "      <td>0.0</td>\n",
              "      <td>477.0</td>\n",
              "      <td>0.0</td>\n",
              "      <td>916197.0</td>\n",
              "      <td>0.0</td>\n",
              "      <td>0.0</td>\n",
              "      <td>-560222.0</td>\n",
              "      <td>-5104.0</td>\n",
              "      <td>5243487.0</td>\n",
              "      <td>56301.0</td>\n",
              "      <td>4046157.0</td>\n",
              "      <td>864523.0</td>\n",
              "      <td>0.0</td>\n",
              "      <td>1757552.0</td>\n",
              "      <td>0.0</td>\n",
              "      <td>566.0</td>\n",
              "      <td>39.0</td>\n",
              "      <td>29.0</td>\n",
              "      <td>0.0</td>\n",
              "      <td>465.0</td>\n",
              "    </tr>\n",
              "    <tr>\n",
              "      <th>3</th>\n",
              "      <td>0.0</td>\n",
              "      <td>267102.0</td>\n",
              "      <td>1295738.0</td>\n",
              "      <td>5634343.0</td>\n",
              "      <td>0.0</td>\n",
              "      <td>1200000.0</td>\n",
              "      <td>0.0</td>\n",
              "      <td>-1386055.0</td>\n",
              "      <td>10623258.0</td>\n",
              "      <td>11200.0</td>\n",
              "      <td>6680544.0</td>\n",
              "      <td>2660303.0</td>\n",
              "      <td>1586055.0</td>\n",
              "      <td>3942714.0</td>\n",
              "      <td>0.0</td>\n",
              "      <td>0.0</td>\n",
              "      <td>0.0</td>\n",
              "      <td>0.0</td>\n",
              "      <td>0.0</td>\n",
              "      <td>0.0</td>\n",
              "    </tr>\n",
              "    <tr>\n",
              "      <th>4</th>\n",
              "      <td>0.0</td>\n",
              "      <td>239671.0</td>\n",
              "      <td>260455.0</td>\n",
              "      <td>827696.0</td>\n",
              "      <td>0.0</td>\n",
              "      <td>400000.0</td>\n",
              "      <td>-82782.0</td>\n",
              "      <td>-201641.0</td>\n",
              "      <td>63014.0</td>\n",
              "      <td>129142.0</td>\n",
              "      <td>0.0</td>\n",
              "      <td>69.0</td>\n",
              "      <td>0.0</td>\n",
              "      <td>145796.0</td>\n",
              "      <td>0.0</td>\n",
              "      <td>0.0</td>\n",
              "      <td>0.0</td>\n",
              "      <td>0.0</td>\n",
              "      <td>0.0</td>\n",
              "      <td>0.0</td>\n",
              "    </tr>\n",
              "  </tbody>\n",
              "</table>\n",
              "</div>\n",
              "      <button class=\"colab-df-convert\" onclick=\"convertToInteractive('df-967a1d80-89f3-4430-9196-7fbcc88d355c')\"\n",
              "              title=\"Convert this dataframe to an interactive table.\"\n",
              "              style=\"display:none;\">\n",
              "        \n",
              "  <svg xmlns=\"http://www.w3.org/2000/svg\" height=\"24px\"viewBox=\"0 0 24 24\"\n",
              "       width=\"24px\">\n",
              "    <path d=\"M0 0h24v24H0V0z\" fill=\"none\"/>\n",
              "    <path d=\"M18.56 5.44l.94 2.06.94-2.06 2.06-.94-2.06-.94-.94-2.06-.94 2.06-2.06.94zm-11 1L8.5 8.5l.94-2.06 2.06-.94-2.06-.94L8.5 2.5l-.94 2.06-2.06.94zm10 10l.94 2.06.94-2.06 2.06-.94-2.06-.94-.94-2.06-.94 2.06-2.06.94z\"/><path d=\"M17.41 7.96l-1.37-1.37c-.4-.4-.92-.59-1.43-.59-.52 0-1.04.2-1.43.59L10.3 9.45l-7.72 7.72c-.78.78-.78 2.05 0 2.83L4 21.41c.39.39.9.59 1.41.59.51 0 1.02-.2 1.41-.59l7.78-7.78 2.81-2.81c.8-.78.8-2.07 0-2.86zM5.41 20L4 18.59l7.72-7.72 1.47 1.35L5.41 20z\"/>\n",
              "  </svg>\n",
              "      </button>\n",
              "      \n",
              "  <style>\n",
              "    .colab-df-container {\n",
              "      display:flex;\n",
              "      flex-wrap:wrap;\n",
              "      gap: 12px;\n",
              "    }\n",
              "\n",
              "    .colab-df-convert {\n",
              "      background-color: #E8F0FE;\n",
              "      border: none;\n",
              "      border-radius: 50%;\n",
              "      cursor: pointer;\n",
              "      display: none;\n",
              "      fill: #1967D2;\n",
              "      height: 32px;\n",
              "      padding: 0 0 0 0;\n",
              "      width: 32px;\n",
              "    }\n",
              "\n",
              "    .colab-df-convert:hover {\n",
              "      background-color: #E2EBFA;\n",
              "      box-shadow: 0px 1px 2px rgba(60, 64, 67, 0.3), 0px 1px 3px 1px rgba(60, 64, 67, 0.15);\n",
              "      fill: #174EA6;\n",
              "    }\n",
              "\n",
              "    [theme=dark] .colab-df-convert {\n",
              "      background-color: #3B4455;\n",
              "      fill: #D2E3FC;\n",
              "    }\n",
              "\n",
              "    [theme=dark] .colab-df-convert:hover {\n",
              "      background-color: #434B5C;\n",
              "      box-shadow: 0px 1px 3px 1px rgba(0, 0, 0, 0.15);\n",
              "      filter: drop-shadow(0px 1px 2px rgba(0, 0, 0, 0.3));\n",
              "      fill: #FFFFFF;\n",
              "    }\n",
              "  </style>\n",
              "\n",
              "      <script>\n",
              "        const buttonEl =\n",
              "          document.querySelector('#df-967a1d80-89f3-4430-9196-7fbcc88d355c button.colab-df-convert');\n",
              "        buttonEl.style.display =\n",
              "          google.colab.kernel.accessAllowed ? 'block' : 'none';\n",
              "\n",
              "        async function convertToInteractive(key) {\n",
              "          const element = document.querySelector('#df-967a1d80-89f3-4430-9196-7fbcc88d355c');\n",
              "          const dataTable =\n",
              "            await google.colab.kernel.invokeFunction('convertToInteractive',\n",
              "                                                     [key], {});\n",
              "          if (!dataTable) return;\n",
              "\n",
              "          const docLinkHtml = 'Like what you see? Visit the ' +\n",
              "            '<a target=\"_blank\" href=https://colab.research.google.com/notebooks/data_table.ipynb>data table notebook</a>'\n",
              "            + ' to learn more about interactive tables.';\n",
              "          element.innerHTML = '';\n",
              "          dataTable['output_type'] = 'display_data';\n",
              "          await google.colab.output.renderOutput(dataTable, element);\n",
              "          const docLink = document.createElement('div');\n",
              "          docLink.innerHTML = docLinkHtml;\n",
              "          element.appendChild(docLink);\n",
              "        }\n",
              "      </script>\n",
              "    </div>\n",
              "  </div>\n",
              "  "
            ],
            "text/plain": [
              "   poi    salary  deferral_payments  total_payments  loan_advances      bonus  \\\n",
              "0  0.0  201955.0          2869717.0       4484442.0            0.0  4175000.0   \n",
              "1  0.0       0.0           178980.0        182466.0            0.0        0.0   \n",
              "2  0.0     477.0                0.0        916197.0            0.0        0.0   \n",
              "3  0.0  267102.0          1295738.0       5634343.0            0.0  1200000.0   \n",
              "4  0.0  239671.0           260455.0        827696.0            0.0   400000.0   \n",
              "\n",
              "   restricted_stock_deferred  deferred_income  total_stock_value  expenses  \\\n",
              "0                  -126027.0       -3081055.0          1729541.0   13868.0   \n",
              "1                        0.0              0.0           257817.0    3486.0   \n",
              "2                  -560222.0          -5104.0          5243487.0   56301.0   \n",
              "3                        0.0       -1386055.0         10623258.0   11200.0   \n",
              "4                   -82782.0        -201641.0            63014.0  129142.0   \n",
              "\n",
              "   exercised_stock_options      other  long_term_incentive  restricted_stock  \\\n",
              "0                1729541.0      152.0             304805.0          126027.0   \n",
              "1                 257817.0        0.0                  0.0               0.0   \n",
              "2                4046157.0   864523.0                  0.0         1757552.0   \n",
              "3                6680544.0  2660303.0            1586055.0         3942714.0   \n",
              "4                      0.0       69.0                  0.0          145796.0   \n",
              "\n",
              "   director_fees  to_messages  from_poi_to_this_person  from_messages  \\\n",
              "0            0.0       2902.0                     47.0         2195.0   \n",
              "1            0.0          0.0                      0.0            0.0   \n",
              "2            0.0        566.0                     39.0           29.0   \n",
              "3            0.0          0.0                      0.0            0.0   \n",
              "4            0.0          0.0                      0.0            0.0   \n",
              "\n",
              "   from_this_person_to_poi  shared_receipt_with_poi  \n",
              "0                     65.0                   1407.0  \n",
              "1                      0.0                      0.0  \n",
              "2                      0.0                    465.0  \n",
              "3                      0.0                      0.0  \n",
              "4                      0.0                      0.0  "
            ]
          },
          "metadata": {},
          "execution_count": 48
        }
      ]
    },
    {
      "cell_type": "markdown",
      "source": [
        "### i. Exploratory Data Analysis"
      ],
      "metadata": {
        "id": "KJ0gCxSPMoVQ"
      }
    },
    {
      "cell_type": "code",
      "source": [
        "# inspect info\n",
        "my_data.info()"
      ],
      "metadata": {
        "colab": {
          "base_uri": "https://localhost:8080/"
        },
        "id": "OZKGR08_Mj-4",
        "outputId": "479987c8-0ffe-4e74-8e1f-969052defa53"
      },
      "execution_count": 26,
      "outputs": [
        {
          "output_type": "stream",
          "name": "stdout",
          "text": [
            "<class 'pandas.core.frame.DataFrame'>\n",
            "RangeIndex: 145 entries, 0 to 144\n",
            "Data columns (total 20 columns):\n",
            " #   Column                     Non-Null Count  Dtype  \n",
            "---  ------                     --------------  -----  \n",
            " 0   poi                        145 non-null    float64\n",
            " 1   salary                     145 non-null    float64\n",
            " 2   deferral_payments          145 non-null    float64\n",
            " 3   total_payments             145 non-null    float64\n",
            " 4   loan_advances              145 non-null    float64\n",
            " 5   bonus                      145 non-null    float64\n",
            " 6   restricted_stock_deferred  145 non-null    float64\n",
            " 7   deferred_income            145 non-null    float64\n",
            " 8   total_stock_value          145 non-null    float64\n",
            " 9   expenses                   145 non-null    float64\n",
            " 10  exercised_stock_options    145 non-null    float64\n",
            " 11  other                      145 non-null    float64\n",
            " 12  long_term_incentive        145 non-null    float64\n",
            " 13  restricted_stock           145 non-null    float64\n",
            " 14  director_fees              145 non-null    float64\n",
            " 15  to_messages                145 non-null    float64\n",
            " 16  from_poi_to_this_person    145 non-null    float64\n",
            " 17  from_messages              145 non-null    float64\n",
            " 18  from_this_person_to_poi    145 non-null    float64\n",
            " 19  shared_receipt_with_poi    145 non-null    float64\n",
            "dtypes: float64(20)\n",
            "memory usage: 22.8 KB\n"
          ]
        }
      ]
    },
    {
      "cell_type": "markdown",
      "source": [
        "**We see no missing values because they were imputed with '0'. But it doesnt mean that there is no missing values. We will find their % later.**"
      ],
      "metadata": {
        "id": "m9ed2lQvMxlW"
      }
    },
    {
      "cell_type": "markdown",
      "source": [
        "#### (A). Total Number of data points and their distribution across different classes (poi/non-poi)"
      ],
      "metadata": {
        "id": "iAx2adndNREn"
      }
    },
    {
      "cell_type": "code",
      "source": [
        "### how many data points we have?\n",
        "len(my_data)"
      ],
      "metadata": {
        "colab": {
          "base_uri": "https://localhost:8080/"
        },
        "id": "K4D8lOo6NisF",
        "outputId": "f489c3cf-3e1f-41c2-8be3-012cf5088d1a"
      },
      "execution_count": 27,
      "outputs": [
        {
          "output_type": "execute_result",
          "data": {
            "text/plain": [
              "145"
            ]
          },
          "metadata": {},
          "execution_count": 27
        }
      ]
    },
    {
      "cell_type": "code",
      "source": [
        "### distribution across different classes\n",
        "plt.title('Data Points(Obs) per class')\n",
        "plt.xlabel('Class/Label')\n",
        "plt.ylabel('Count')\n",
        "my_data['poi'].value_counts().plot.bar()\n",
        "plt.xticks([0, 1], labels=['Non-POI', 'POI'], rotation=45)\n",
        "plt.show()"
      ],
      "metadata": {
        "colab": {
          "base_uri": "https://localhost:8080/",
          "height": 319
        },
        "id": "8n4g9Wt6Mw8O",
        "outputId": "c8b7491e-8760-43b9-9193-568c0fce2a4e"
      },
      "execution_count": 33,
      "outputs": [
        {
          "output_type": "display_data",
          "data": {
            "image/png": "[encoded data removed]",
            "text/plain": [
              "<Figure size 432x288 with 1 Axes>"
            ]
          },
          "metadata": {
            "needs_background": "light"
          }
        }
      ]
    },
    {
      "cell_type": "markdown",
      "source": [
        "#### (B). Looking up for the missing values in availble features and filtereing the ones with less than 50% missing values. "
      ],
      "metadata": {
        "id": "JDO9qzr6Oqup"
      }
    },
    {
      "cell_type": "code",
      "source": [
        "### find how many values are missing in each column\n",
        "filtered_features_missing = []\n",
        "missing_count = []\n",
        "for col in features_list[1:]:\n",
        "  missing_vals = len(my_data[col][np.where(my_data[col]==0)[0]])\n",
        "  missing_count.append(missing_vals)\n",
        "  total_vals = len(my_data[col])\n",
        "  ptc_missing = missing_vals / total_vals\n",
        "  if ptc_missing < 0.5:\n",
        "    filtered_features_missing.append(col)\n",
        "  print(f'{col} = {ptc_missing:.2f}%')"
      ],
      "metadata": {
        "id": "JMbQ4I0KTdVq",
        "colab": {
          "base_uri": "https://localhost:8080/"
        },
        "outputId": "72e3cf2d-000a-4491-99fa-60af8451ba99"
      },
      "execution_count": 51,
      "outputs": [
        {
          "output_type": "stream",
          "name": "stdout",
          "text": [
            "salary = 0.34%\n",
            "deferral_payments = 0.73%\n",
            "total_payments = 0.14%\n",
            "loan_advances = 0.97%\n",
            "bonus = 0.43%\n",
            "restricted_stock_deferred = 0.88%\n",
            "deferred_income = 0.66%\n",
            "total_stock_value = 0.13%\n",
            "expenses = 0.34%\n",
            "exercised_stock_options = 0.30%\n",
            "other = 0.36%\n",
            "long_term_incentive = 0.54%\n",
            "restricted_stock = 0.24%\n",
            "director_fees = 0.88%\n",
            "to_messages = 0.41%\n",
            "from_poi_to_this_person = 0.49%\n",
            "from_messages = 0.41%\n",
            "from_this_person_to_poi = 0.54%\n",
            "shared_receipt_with_poi = 0.41%\n"
          ]
        }
      ]
    },
    {
      "cell_type": "code",
      "source": [
        "### Visualizing the missing values (by count)\n",
        "plt.figure(figsize=(10,5))\n",
        "sns.barplot(x=features_list[1:], y=missing_count)\n",
        "plt.xticks(rotation=90)\n",
        "plt.title('Missing Values per feature out of 140.')\n",
        "plt.xlabel('Feature')\n",
        "plt.ylabel('Missing value count')\n",
        "plt.show()"
      ],
      "metadata": {
        "id": "gcUv7amCUHxb",
        "colab": {
          "base_uri": "https://localhost:8080/",
          "height": 452
        },
        "outputId": "de314b16-ebbd-414a-89e2-2327160177da"
      },
      "execution_count": 43,
      "outputs": [
        {
          "output_type": "display_data",
          "data": {
            "image/png": "[encoded data removed]",
            "text/plain": [
              "<Figure size 720x360 with 1 Axes>"
            ]
          },
          "metadata": {
            "needs_background": "light"
          }
        }
      ]
    },
    {
      "cell_type": "code",
      "source": [
        "### some filtered features those are having less than 50% missing values\n",
        "filtered_features_missing"
      ],
      "metadata": {
        "colab": {
          "base_uri": "https://localhost:8080/"
        },
        "id": "l7TDK06maryU",
        "outputId": "f067a273-4e49-4a17-b58e-08862ec6b50b"
      },
      "execution_count": 68,
      "outputs": [
        {
          "output_type": "execute_result",
          "data": {
            "text/plain": [
              "['poi',\n",
              " 'salary',\n",
              " 'total_payments',\n",
              " 'bonus',\n",
              " 'total_stock_value',\n",
              " 'expenses',\n",
              " 'exercised_stock_options',\n",
              " 'other',\n",
              " 'restricted_stock',\n",
              " 'to_messages',\n",
              " 'from_poi_to_this_person',\n",
              " 'from_messages',\n",
              " 'shared_receipt_with_poi']"
            ]
          },
          "metadata": {},
          "execution_count": 68
        }
      ]
    },
    {
      "cell_type": "markdown",
      "source": [
        "#### (C). Finding the correlation between dependent and independant variable"
      ],
      "metadata": {
        "id": "rU3MglNkQTXO"
      }
    },
    {
      "cell_type": "code",
      "source": [
        "my_data.corr().iloc[0]"
      ],
      "metadata": {
        "colab": {
          "base_uri": "https://localhost:8080/"
        },
        "id": "PFPg2eZtR4jc",
        "outputId": "5ac6de20-7b4d-4312-9b51-7e061667a43e"
      },
      "execution_count": 67,
      "outputs": [
        {
          "output_type": "execute_result",
          "data": {
            "text/plain": [
              "poi                          1.000000\n",
              "salary                      -0.001058\n",
              "deferral_payments           -0.040847\n",
              "total_payments               0.049386\n",
              "loan_advances                0.131550\n",
              "bonus                        0.023341\n",
              "restricted_stock_deferred   -0.005402\n",
              "deferred_income             -0.039149\n",
              "total_stock_value            0.034064\n",
              "expenses                    -0.009886\n",
              "exercised_stock_options      0.039922\n",
              "other                        0.021832\n",
              "long_term_incentive          0.012467\n",
              "restricted_stock             0.014801\n",
              "director_fees               -0.061847\n",
              "to_messages                  0.110006\n",
              "from_poi_to_this_person      0.191549\n",
              "from_messages               -0.033302\n",
              "from_this_person_to_poi      0.130319\n",
              "shared_receipt_with_poi      0.242105\n",
              "Name: poi, dtype: float64"
            ]
          },
          "metadata": {},
          "execution_count": 67
        }
      ]
    },
    {
      "cell_type": "code",
      "source": [
        "### find the correlation in all_features\n",
        "plt.figure(figsize=(10, 10))\n",
        "sns.heatmap(my_data.corr());"
      ],
      "metadata": {
        "colab": {
          "base_uri": "https://localhost:8080/",
          "height": 699
        },
        "id": "7UaSPd3RcxoO",
        "outputId": "3840938f-1cb8-4079-cd28-1c72ef85fd67"
      },
      "execution_count": 47,
      "outputs": [
        {
          "output_type": "display_data",
          "data": {
            "image/png": "[encoded data removed]",
            "text/plain": [
              "<Figure size 720x720 with 2 Axes>"
            ]
          },
          "metadata": {
            "needs_background": "light"
          }
        }
      ]
    },
    {
      "cell_type": "markdown",
      "source": [
        "**There is no super corelation.**"
      ],
      "metadata": {
        "id": "y7tSt4K9Qd1b"
      }
    },
    {
      "cell_type": "markdown",
      "source": [
        "#### (D). Is the Data Balanced?"
      ],
      "metadata": {
        "id": "05Ghz51DQqKn"
      }
    },
    {
      "cell_type": "code",
      "source": [
        "pd.DataFrame(data_dict).T['poi'].value_counts()"
      ],
      "metadata": {
        "colab": {
          "base_uri": "https://localhost:8080/"
        },
        "id": "nWvQf2sAeCu8",
        "outputId": "739e84e5-f1e8-4e7a-be65-6a913ed3464d"
      },
      "execution_count": null,
      "outputs": [
        {
          "output_type": "execute_result",
          "data": {
            "text/plain": [
              "False    128\n",
              "True      18\n",
              "Name: poi, dtype: int64"
            ]
          },
          "metadata": {},
          "execution_count": 12
        }
      ]
    },
    {
      "cell_type": "markdown",
      "source": [
        "**Data is very much imbalanced and more biased to class 0.**"
      ],
      "metadata": {
        "id": "e2flSEAweiap"
      }
    },
    {
      "cell_type": "markdown",
      "source": [
        "### ii. Data Preparation\n",
        "We will prepare the data for better analysis and modeling. We will\n",
        "1. Select higly correlated features\n",
        "2. Create new feature(s)\n",
        "3. Remove the outliers"
      ],
      "metadata": {
        "id": "QcbmwQhnTXKm"
      }
    },
    {
      "cell_type": "markdown",
      "source": [
        "#### 1. Select higly correlated features"
      ],
      "metadata": {
        "id": "qMR-UUPxT3b_"
      }
    },
    {
      "cell_type": "code",
      "source": [
        "### selecting only highly correlated featues\n",
        "highly_corr_feats = []\n",
        "for label, value in my_data.corr().iloc[0, 1:].items():\n",
        "  if abs(value) >= 0.1:\n",
        "    print(label, value)\n",
        "    highly_corr_feats.append(label)\n",
        "\n",
        "highly_corr_feats.insert(0, 'poi')\n",
        "highly_corr_feats"
      ],
      "metadata": {
        "colab": {
          "base_uri": "https://localhost:8080/"
        },
        "id": "0M0Kbo0ZS0ru",
        "outputId": "cf88e59d-24ee-43f5-89cc-cb0487f12a63"
      },
      "execution_count": 66,
      "outputs": [
        {
          "output_type": "stream",
          "name": "stdout",
          "text": [
            "loan_advances 0.13155023418667247\n",
            "to_messages 0.11000624180535844\n",
            "from_poi_to_this_person 0.19154947816078596\n",
            "from_this_person_to_poi 0.13031871741439627\n",
            "shared_receipt_with_poi 0.24210506423283196\n"
          ]
        },
        {
          "output_type": "execute_result",
          "data": {
            "text/plain": [
              "['poi',\n",
              " 'loan_advances',\n",
              " 'to_messages',\n",
              " 'from_poi_to_this_person',\n",
              " 'from_this_person_to_poi',\n",
              " 'shared_receipt_with_poi']"
            ]
          },
          "metadata": {},
          "execution_count": 66
        }
      ]
    },
    {
      "cell_type": "code",
      "source": [
        "### Extract features and labels from dataset for local testing\n",
        "data_selected = featureFormat(my_dataset, highly_corr_feats, sort_keys = True)\n",
        "\n",
        "### converting the data to df for some analysis and exploration\n",
        "my_data_selected = pd.DataFrame(data_selected, columns=highly_corr_feats)\n",
        "my_data_selected.head()"
      ],
      "metadata": {
        "colab": {
          "base_uri": "https://localhost:8080/",
          "height": 206
        },
        "id": "swENWkuKUCmt",
        "outputId": "90ce0534-929a-47e5-ddaf-79d8d9cfabbc"
      },
      "execution_count": 69,
      "outputs": [
        {
          "output_type": "execute_result",
          "data": {
            "text/html": [
              "\n",
              "  <div id=\"df-c890ed58-7ff0-4fcd-be2e-9aa62d8d12bc\">\n",
              "    <div class=\"colab-df-container\">\n",
              "      <div>\n",
              "<style scoped>\n",
              "    .dataframe tbody tr th:only-of-type {\n",
              "        vertical-align: middle;\n",
              "    }\n",
              "\n",
              "    .dataframe tbody tr th {\n",
              "        vertical-align: top;\n",
              "    }\n",
              "\n",
              "    .dataframe thead th {\n",
              "        text-align: right;\n",
              "    }\n",
              "</style>\n",
              "<table border=\"1\" class=\"dataframe\">\n",
              "  <thead>\n",
              "    <tr style=\"text-align: right;\">\n",
              "      <th></th>\n",
              "      <th>poi</th>\n",
              "      <th>loan_advances</th>\n",
              "      <th>to_messages</th>\n",
              "      <th>from_poi_to_this_person</th>\n",
              "      <th>from_this_person_to_poi</th>\n",
              "      <th>shared_receipt_with_poi</th>\n",
              "    </tr>\n",
              "  </thead>\n",
              "  <tbody>\n",
              "    <tr>\n",
              "      <th>0</th>\n",
              "      <td>0.0</td>\n",
              "      <td>0.0</td>\n",
              "      <td>2902.0</td>\n",
              "      <td>47.0</td>\n",
              "      <td>65.0</td>\n",
              "      <td>1407.0</td>\n",
              "    </tr>\n",
              "    <tr>\n",
              "      <th>1</th>\n",
              "      <td>0.0</td>\n",
              "      <td>0.0</td>\n",
              "      <td>566.0</td>\n",
              "      <td>39.0</td>\n",
              "      <td>0.0</td>\n",
              "      <td>465.0</td>\n",
              "    </tr>\n",
              "    <tr>\n",
              "      <th>2</th>\n",
              "      <td>0.0</td>\n",
              "      <td>0.0</td>\n",
              "      <td>7315.0</td>\n",
              "      <td>144.0</td>\n",
              "      <td>386.0</td>\n",
              "      <td>2639.0</td>\n",
              "    </tr>\n",
              "    <tr>\n",
              "      <th>3</th>\n",
              "      <td>1.0</td>\n",
              "      <td>0.0</td>\n",
              "      <td>7991.0</td>\n",
              "      <td>228.0</td>\n",
              "      <td>108.0</td>\n",
              "      <td>5521.0</td>\n",
              "    </tr>\n",
              "    <tr>\n",
              "      <th>4</th>\n",
              "      <td>0.0</td>\n",
              "      <td>0.0</td>\n",
              "      <td>383.0</td>\n",
              "      <td>4.0</td>\n",
              "      <td>0.0</td>\n",
              "      <td>233.0</td>\n",
              "    </tr>\n",
              "  </tbody>\n",
              "</table>\n",
              "</div>\n",
              "      <button class=\"colab-df-convert\" onclick=\"convertToInteractive('df-c890ed58-7ff0-4fcd-be2e-9aa62d8d12bc')\"\n",
              "              title=\"Convert this dataframe to an interactive table.\"\n",
              "              style=\"display:none;\">\n",
              "        \n",
              "  <svg xmlns=\"http://www.w3.org/2000/svg\" height=\"24px\"viewBox=\"0 0 24 24\"\n",
              "       width=\"24px\">\n",
              "    <path d=\"M0 0h24v24H0V0z\" fill=\"none\"/>\n",
              "    <path d=\"M18.56 5.44l.94 2.06.94-2.06 2.06-.94-2.06-.94-.94-2.06-.94 2.06-2.06.94zm-11 1L8.5 8.5l.94-2.06 2.06-.94-2.06-.94L8.5 2.5l-.94 2.06-2.06.94zm10 10l.94 2.06.94-2.06 2.06-.94-2.06-.94-.94-2.06-.94 2.06-2.06.94z\"/><path d=\"M17.41 7.96l-1.37-1.37c-.4-.4-.92-.59-1.43-.59-.52 0-1.04.2-1.43.59L10.3 9.45l-7.72 7.72c-.78.78-.78 2.05 0 2.83L4 21.41c.39.39.9.59 1.41.59.51 0 1.02-.2 1.41-.59l7.78-7.78 2.81-2.81c.8-.78.8-2.07 0-2.86zM5.41 20L4 18.59l7.72-7.72 1.47 1.35L5.41 20z\"/>\n",
              "  </svg>\n",
              "      </button>\n",
              "      \n",
              "  <style>\n",
              "    .colab-df-container {\n",
              "      display:flex;\n",
              "      flex-wrap:wrap;\n",
              "      gap: 12px;\n",
              "    }\n",
              "\n",
              "    .colab-df-convert {\n",
              "      background-color: #E8F0FE;\n",
              "      border: none;\n",
              "      border-radius: 50%;\n",
              "      cursor: pointer;\n",
              "      display: none;\n",
              "      fill: #1967D2;\n",
              "      height: 32px;\n",
              "      padding: 0 0 0 0;\n",
              "      width: 32px;\n",
              "    }\n",
              "\n",
              "    .colab-df-convert:hover {\n",
              "      background-color: #E2EBFA;\n",
              "      box-shadow: 0px 1px 2px rgba(60, 64, 67, 0.3), 0px 1px 3px 1px rgba(60, 64, 67, 0.15);\n",
              "      fill: #174EA6;\n",
              "    }\n",
              "\n",
              "    [theme=dark] .colab-df-convert {\n",
              "      background-color: #3B4455;\n",
              "      fill: #D2E3FC;\n",
              "    }\n",
              "\n",
              "    [theme=dark] .colab-df-convert:hover {\n",
              "      background-color: #434B5C;\n",
              "      box-shadow: 0px 1px 3px 1px rgba(0, 0, 0, 0.15);\n",
              "      filter: drop-shadow(0px 1px 2px rgba(0, 0, 0, 0.3));\n",
              "      fill: #FFFFFF;\n",
              "    }\n",
              "  </style>\n",
              "\n",
              "      <script>\n",
              "        const buttonEl =\n",
              "          document.querySelector('#df-c890ed58-7ff0-4fcd-be2e-9aa62d8d12bc button.colab-df-convert');\n",
              "        buttonEl.style.display =\n",
              "          google.colab.kernel.accessAllowed ? 'block' : 'none';\n",
              "\n",
              "        async function convertToInteractive(key) {\n",
              "          const element = document.querySelector('#df-c890ed58-7ff0-4fcd-be2e-9aa62d8d12bc');\n",
              "          const dataTable =\n",
              "            await google.colab.kernel.invokeFunction('convertToInteractive',\n",
              "                                                     [key], {});\n",
              "          if (!dataTable) return;\n",
              "\n",
              "          const docLinkHtml = 'Like what you see? Visit the ' +\n",
              "            '<a target=\"_blank\" href=https://colab.research.google.com/notebooks/data_table.ipynb>data table notebook</a>'\n",
              "            + ' to learn more about interactive tables.';\n",
              "          element.innerHTML = '';\n",
              "          dataTable['output_type'] = 'display_data';\n",
              "          await google.colab.output.renderOutput(dataTable, element);\n",
              "          const docLink = document.createElement('div');\n",
              "          docLink.innerHTML = docLinkHtml;\n",
              "          element.appendChild(docLink);\n",
              "        }\n",
              "      </script>\n",
              "    </div>\n",
              "  </div>\n",
              "  "
            ],
            "text/plain": [
              "   poi  loan_advances  to_messages  from_poi_to_this_person  \\\n",
              "0  0.0            0.0       2902.0                     47.0   \n",
              "1  0.0            0.0        566.0                     39.0   \n",
              "2  0.0            0.0       7315.0                    144.0   \n",
              "3  1.0            0.0       7991.0                    228.0   \n",
              "4  0.0            0.0        383.0                      4.0   \n",
              "\n",
              "   from_this_person_to_poi  shared_receipt_with_poi  \n",
              "0                     65.0                   1407.0  \n",
              "1                      0.0                    465.0  \n",
              "2                    386.0                   2639.0  \n",
              "3                    108.0                   5521.0  \n",
              "4                      0.0                    233.0  "
            ]
          },
          "metadata": {},
          "execution_count": 69
        }
      ]
    },
    {
      "cell_type": "code",
      "source": [
        "## corelation in filtered features\n",
        "plt.figure(figsize=(10, 10))\n",
        "sns.heatmap(my_data_selected.corr());"
      ],
      "metadata": {
        "colab": {
          "base_uri": "https://localhost:8080/",
          "height": 696
        },
        "id": "NuKmtlX8Qmam",
        "outputId": "1183e41a-1000-4e82-8b37-1e73d0af8218"
      },
      "execution_count": 70,
      "outputs": [
        {
          "output_type": "display_data",
          "data": {
            "image/png": "[encoded data removed]",
            "text/plain": [
              "<Figure size 720x720 with 2 Axes>"
            ]
          },
          "metadata": {
            "needs_background": "light"
          }
        }
      ]
    },
    {
      "cell_type": "code",
      "source": [
        "### Task 2: Remove outliers\n",
        "### Task 3: Create new feature(s)"
      ],
      "metadata": {
        "id": "GnUFUWgThfqM"
      },
      "execution_count": 13,
      "outputs": []
    },
    {
      "cell_type": "code",
      "source": [
        "### creating a new feature\n",
        "my_data['pct_amount_paid_from_bonus'] = my_data['bonus']/ my_data['total_payments']\n",
        "my_data.fillna(0, inplace=True)"
      ],
      "metadata": {
        "id": "TpiZMpTxNHWH"
      },
      "execution_count": null,
      "outputs": []
    },
    {
      "cell_type": "markdown",
      "source": [
        "### modeling experiments\n",
        "1. Take all the data as it is and find the baseline model."
      ],
      "metadata": {
        "id": "ItFrBZ9OfXmp"
      }
    },
    {
      "cell_type": "code",
      "source": [
        "### Task 4: Try a varity of classifiers\n",
        "### Please name your classifier clf for easy export below.\n",
        "### Note that if you want to do PCA or other multi-stage operations,\n",
        "### you'll need to use Pipelines. For more info:\n",
        "### http://scikit-learn.org/stable/modules/pipeline.html"
      ],
      "metadata": {
        "id": "j1Hq5H9FhXEC"
      },
      "execution_count": 18,
      "outputs": []
    },
    {
      "cell_type": "code",
      "source": [
        "experiment = setup(my_data, target='poi')  \n",
        "best_model = compare_models(sort='F1')"
      ],
      "metadata": {
        "colab": {
          "base_uri": "https://localhost:8080/",
          "height": 488,
          "referenced_widgets": [
            "5f66ec30dafc4dd6ae789f78379f14dd",
            "29819c3ef1df41f4b61cad75f3399f12",
            "4121e8c0b2f0451fa45af69c4913e6b7",
            "74e38437d46449aca2cf8af3a20ac624",
            "5bbc3f52607345d6a927a3e6743d24bf",
            "bb4b357a14bb4f93a62dcb3d2e97afeb",
            "41c936b54dae40fdbe30557b58a556b1",
            "ad906769f82442658320caedc30a4f2a",
            "18f902890cf64cd0989436518e80b032"
          ]
        },
        "id": "qdCxU076fe54",
        "outputId": "148df75a-b555-4364-94c3-33dd71d24dde"
      },
      "execution_count": null,
      "outputs": [
        {
          "output_type": "display_data",
          "data": {
            "text/html": [
              "\n",
              "  <div id=\"df-fa659fdc-4b81-40b3-bf78-0bcfde762f71\">\n",
              "    <div class=\"colab-df-container\">\n",
              "      <div>\n",
              "<style scoped>\n",
              "    .dataframe tbody tr th:only-of-type {\n",
              "        vertical-align: middle;\n",
              "    }\n",
              "\n",
              "    .dataframe tbody tr th {\n",
              "        vertical-align: top;\n",
              "    }\n",
              "\n",
              "    .dataframe thead th {\n",
              "        text-align: right;\n",
              "    }\n",
              "</style>\n",
              "<table border=\"1\" class=\"dataframe\">\n",
              "  <thead>\n",
              "    <tr style=\"text-align: right;\">\n",
              "      <th></th>\n",
              "      <th>Model</th>\n",
              "      <th>Accuracy</th>\n",
              "      <th>AUC</th>\n",
              "      <th>Recall</th>\n",
              "      <th>Prec.</th>\n",
              "      <th>F1</th>\n",
              "      <th>Kappa</th>\n",
              "      <th>MCC</th>\n",
              "      <th>TT (Sec)</th>\n",
              "    </tr>\n",
              "  </thead>\n",
              "  <tbody>\n",
              "    <tr>\n",
              "      <th>ada</th>\n",
              "      <td>Ada Boost Classifier</td>\n",
              "      <td>0.8418</td>\n",
              "      <td>0.7771</td>\n",
              "      <td>0.35</td>\n",
              "      <td>0.2917</td>\n",
              "      <td>0.3133</td>\n",
              "      <td>0.2520</td>\n",
              "      <td>0.2532</td>\n",
              "      <td>0.096</td>\n",
              "    </tr>\n",
              "    <tr>\n",
              "      <th>nb</th>\n",
              "      <td>Naive Bayes</td>\n",
              "      <td>0.4245</td>\n",
              "      <td>0.6125</td>\n",
              "      <td>0.80</td>\n",
              "      <td>0.1731</td>\n",
              "      <td>0.2718</td>\n",
              "      <td>0.0696</td>\n",
              "      <td>0.1189</td>\n",
              "      <td>0.017</td>\n",
              "    </tr>\n",
              "    <tr>\n",
              "      <th>lightgbm</th>\n",
              "      <td>Light Gradient Boosting Machine</td>\n",
              "      <td>0.8518</td>\n",
              "      <td>0.7979</td>\n",
              "      <td>0.30</td>\n",
              "      <td>0.2500</td>\n",
              "      <td>0.2667</td>\n",
              "      <td>0.2154</td>\n",
              "      <td>0.2167</td>\n",
              "      <td>0.067</td>\n",
              "    </tr>\n",
              "    <tr>\n",
              "      <th>gbc</th>\n",
              "      <td>Gradient Boosting Classifier</td>\n",
              "      <td>0.8327</td>\n",
              "      <td>0.7299</td>\n",
              "      <td>0.20</td>\n",
              "      <td>0.2500</td>\n",
              "      <td>0.2167</td>\n",
              "      <td>0.1426</td>\n",
              "      <td>0.1454</td>\n",
              "      <td>0.155</td>\n",
              "    </tr>\n",
              "    <tr>\n",
              "      <th>lr</th>\n",
              "      <td>Logistic Regression</td>\n",
              "      <td>0.8218</td>\n",
              "      <td>0.6243</td>\n",
              "      <td>0.20</td>\n",
              "      <td>0.2000</td>\n",
              "      <td>0.1833</td>\n",
              "      <td>0.1035</td>\n",
              "      <td>0.1140</td>\n",
              "      <td>0.429</td>\n",
              "    </tr>\n",
              "    <tr>\n",
              "      <th>dt</th>\n",
              "      <td>Decision Tree Classifier</td>\n",
              "      <td>0.7636</td>\n",
              "      <td>0.5438</td>\n",
              "      <td>0.25</td>\n",
              "      <td>0.1583</td>\n",
              "      <td>0.1833</td>\n",
              "      <td>0.0543</td>\n",
              "      <td>0.0639</td>\n",
              "      <td>0.016</td>\n",
              "    </tr>\n",
              "    <tr>\n",
              "      <th>ridge</th>\n",
              "      <td>Ridge Classifier</td>\n",
              "      <td>0.8436</td>\n",
              "      <td>0.0000</td>\n",
              "      <td>0.15</td>\n",
              "      <td>0.2250</td>\n",
              "      <td>0.1667</td>\n",
              "      <td>0.1086</td>\n",
              "      <td>0.1189</td>\n",
              "      <td>0.016</td>\n",
              "    </tr>\n",
              "    <tr>\n",
              "      <th>lda</th>\n",
              "      <td>Linear Discriminant Analysis</td>\n",
              "      <td>0.8336</td>\n",
              "      <td>0.6722</td>\n",
              "      <td>0.15</td>\n",
              "      <td>0.2250</td>\n",
              "      <td>0.1667</td>\n",
              "      <td>0.1043</td>\n",
              "      <td>0.1134</td>\n",
              "      <td>0.018</td>\n",
              "    </tr>\n",
              "    <tr>\n",
              "      <th>qda</th>\n",
              "      <td>Quadratic Discriminant Analysis</td>\n",
              "      <td>0.7918</td>\n",
              "      <td>0.6799</td>\n",
              "      <td>0.05</td>\n",
              "      <td>0.0500</td>\n",
              "      <td>0.0500</td>\n",
              "      <td>-0.0109</td>\n",
              "      <td>-0.0217</td>\n",
              "      <td>0.017</td>\n",
              "    </tr>\n",
              "    <tr>\n",
              "      <th>et</th>\n",
              "      <td>Extra Trees Classifier</td>\n",
              "      <td>0.8218</td>\n",
              "      <td>0.7229</td>\n",
              "      <td>0.05</td>\n",
              "      <td>0.0500</td>\n",
              "      <td>0.0500</td>\n",
              "      <td>-0.0052</td>\n",
              "      <td>-0.0063</td>\n",
              "      <td>0.465</td>\n",
              "    </tr>\n",
              "    <tr>\n",
              "      <th>svm</th>\n",
              "      <td>SVM - Linear Kernel</td>\n",
              "      <td>0.7327</td>\n",
              "      <td>0.0000</td>\n",
              "      <td>0.10</td>\n",
              "      <td>0.0125</td>\n",
              "      <td>0.0222</td>\n",
              "      <td>-0.0821</td>\n",
              "      <td>-0.0732</td>\n",
              "      <td>0.015</td>\n",
              "    </tr>\n",
              "    <tr>\n",
              "      <th>knn</th>\n",
              "      <td>K Neighbors Classifier</td>\n",
              "      <td>0.8418</td>\n",
              "      <td>0.5024</td>\n",
              "      <td>0.00</td>\n",
              "      <td>0.0000</td>\n",
              "      <td>0.0000</td>\n",
              "      <td>-0.0265</td>\n",
              "      <td>-0.0278</td>\n",
              "      <td>0.115</td>\n",
              "    </tr>\n",
              "    <tr>\n",
              "      <th>rf</th>\n",
              "      <td>Random Forest Classifier</td>\n",
              "      <td>0.8118</td>\n",
              "      <td>0.7333</td>\n",
              "      <td>0.00</td>\n",
              "      <td>0.0000</td>\n",
              "      <td>0.0000</td>\n",
              "      <td>-0.0558</td>\n",
              "      <td>-0.0583</td>\n",
              "      <td>0.475</td>\n",
              "    </tr>\n",
              "    <tr>\n",
              "      <th>dummy</th>\n",
              "      <td>Dummy Classifier</td>\n",
              "      <td>0.8618</td>\n",
              "      <td>0.5000</td>\n",
              "      <td>0.00</td>\n",
              "      <td>0.0000</td>\n",
              "      <td>0.0000</td>\n",
              "      <td>0.0000</td>\n",
              "      <td>0.0000</td>\n",
              "      <td>0.012</td>\n",
              "    </tr>\n",
              "  </tbody>\n",
              "</table>\n",
              "</div>\n",
              "      <button class=\"colab-df-convert\" onclick=\"convertToInteractive('df-fa659fdc-4b81-40b3-bf78-0bcfde762f71')\"\n",
              "              title=\"Convert this dataframe to an interactive table.\"\n",
              "              style=\"display:none;\">\n",
              "        \n",
              "  <svg xmlns=\"http://www.w3.org/2000/svg\" height=\"24px\"viewBox=\"0 0 24 24\"\n",
              "       width=\"24px\">\n",
              "    <path d=\"M0 0h24v24H0V0z\" fill=\"none\"/>\n",
              "    <path d=\"M18.56 5.44l.94 2.06.94-2.06 2.06-.94-2.06-.94-.94-2.06-.94 2.06-2.06.94zm-11 1L8.5 8.5l.94-2.06 2.06-.94-2.06-.94L8.5 2.5l-.94 2.06-2.06.94zm10 10l.94 2.06.94-2.06 2.06-.94-2.06-.94-.94-2.06-.94 2.06-2.06.94z\"/><path d=\"M17.41 7.96l-1.37-1.37c-.4-.4-.92-.59-1.43-.59-.52 0-1.04.2-1.43.59L10.3 9.45l-7.72 7.72c-.78.78-.78 2.05 0 2.83L4 21.41c.39.39.9.59 1.41.59.51 0 1.02-.2 1.41-.59l7.78-7.78 2.81-2.81c.8-.78.8-2.07 0-2.86zM5.41 20L4 18.59l7.72-7.72 1.47 1.35L5.41 20z\"/>\n",
              "  </svg>\n",
              "      </button>\n",
              "      \n",
              "  <style>\n",
              "    .colab-df-container {\n",
              "      display:flex;\n",
              "      flex-wrap:wrap;\n",
              "      gap: 12px;\n",
              "    }\n",
              "\n",
              "    .colab-df-convert {\n",
              "      background-color: #E8F0FE;\n",
              "      border: none;\n",
              "      border-radius: 50%;\n",
              "      cursor: pointer;\n",
              "      display: none;\n",
              "      fill: #1967D2;\n",
              "      height: 32px;\n",
              "      padding: 0 0 0 0;\n",
              "      width: 32px;\n",
              "    }\n",
              "\n",
              "    .colab-df-convert:hover {\n",
              "      background-color: #E2EBFA;\n",
              "      box-shadow: 0px 1px 2px rgba(60, 64, 67, 0.3), 0px 1px 3px 1px rgba(60, 64, 67, 0.15);\n",
              "      fill: #174EA6;\n",
              "    }\n",
              "\n",
              "    [theme=dark] .colab-df-convert {\n",
              "      background-color: #3B4455;\n",
              "      fill: #D2E3FC;\n",
              "    }\n",
              "\n",
              "    [theme=dark] .colab-df-convert:hover {\n",
              "      background-color: #434B5C;\n",
              "      box-shadow: 0px 1px 3px 1px rgba(0, 0, 0, 0.15);\n",
              "      filter: drop-shadow(0px 1px 2px rgba(0, 0, 0, 0.3));\n",
              "      fill: #FFFFFF;\n",
              "    }\n",
              "  </style>\n",
              "\n",
              "      <script>\n",
              "        const buttonEl =\n",
              "          document.querySelector('#df-fa659fdc-4b81-40b3-bf78-0bcfde762f71 button.colab-df-convert');\n",
              "        buttonEl.style.display =\n",
              "          google.colab.kernel.accessAllowed ? 'block' : 'none';\n",
              "\n",
              "        async function convertToInteractive(key) {\n",
              "          const element = document.querySelector('#df-fa659fdc-4b81-40b3-bf78-0bcfde762f71');\n",
              "          const dataTable =\n",
              "            await google.colab.kernel.invokeFunction('convertToInteractive',\n",
              "                                                     [key], {});\n",
              "          if (!dataTable) return;\n",
              "\n",
              "          const docLinkHtml = 'Like what you see? Visit the ' +\n",
              "            '<a target=\"_blank\" href=https://colab.research.google.com/notebooks/data_table.ipynb>data table notebook</a>'\n",
              "            + ' to learn more about interactive tables.';\n",
              "          element.innerHTML = '';\n",
              "          dataTable['output_type'] = 'display_data';\n",
              "          await google.colab.output.renderOutput(dataTable, element);\n",
              "          const docLink = document.createElement('div');\n",
              "          docLink.innerHTML = docLinkHtml;\n",
              "          element.appendChild(docLink);\n",
              "        }\n",
              "      </script>\n",
              "    </div>\n",
              "  </div>\n",
              "  "
            ],
            "text/plain": [
              "                                    Model  Accuracy     AUC  Recall   Prec.  \\\n",
              "ada                  Ada Boost Classifier    0.8418  0.7771    0.35  0.2917   \n",
              "nb                            Naive Bayes    0.4245  0.6125    0.80  0.1731   \n",
              "lightgbm  Light Gradient Boosting Machine    0.8518  0.7979    0.30  0.2500   \n",
              "gbc          Gradient Boosting Classifier    0.8327  0.7299    0.20  0.2500   \n",
              "lr                    Logistic Regression    0.8218  0.6243    0.20  0.2000   \n",
              "dt               Decision Tree Classifier    0.7636  0.5438    0.25  0.1583   \n",
              "ridge                    Ridge Classifier    0.8436  0.0000    0.15  0.2250   \n",
              "lda          Linear Discriminant Analysis    0.8336  0.6722    0.15  0.2250   \n",
              "qda       Quadratic Discriminant Analysis    0.7918  0.6799    0.05  0.0500   \n",
              "et                 Extra Trees Classifier    0.8218  0.7229    0.05  0.0500   \n",
              "svm                   SVM - Linear Kernel    0.7327  0.0000    0.10  0.0125   \n",
              "knn                K Neighbors Classifier    0.8418  0.5024    0.00  0.0000   \n",
              "rf               Random Forest Classifier    0.8118  0.7333    0.00  0.0000   \n",
              "dummy                    Dummy Classifier    0.8618  0.5000    0.00  0.0000   \n",
              "\n",
              "              F1   Kappa     MCC  TT (Sec)  \n",
              "ada       0.3133  0.2520  0.2532     0.096  \n",
              "nb        0.2718  0.0696  0.1189     0.017  \n",
              "lightgbm  0.2667  0.2154  0.2167     0.067  \n",
              "gbc       0.2167  0.1426  0.1454     0.155  \n",
              "lr        0.1833  0.1035  0.1140     0.429  \n",
              "dt        0.1833  0.0543  0.0639     0.016  \n",
              "ridge     0.1667  0.1086  0.1189     0.016  \n",
              "lda       0.1667  0.1043  0.1134     0.018  \n",
              "qda       0.0500 -0.0109 -0.0217     0.017  \n",
              "et        0.0500 -0.0052 -0.0063     0.465  \n",
              "svm       0.0222 -0.0821 -0.0732     0.015  \n",
              "knn       0.0000 -0.0265 -0.0278     0.115  \n",
              "rf        0.0000 -0.0558 -0.0583     0.475  \n",
              "dummy     0.0000  0.0000  0.0000     0.012  "
            ]
          },
          "metadata": {}
        }
      ]
    },
    {
      "cell_type": "code",
      "source": [
        "best_model"
      ],
      "metadata": {
        "colab": {
          "base_uri": "https://localhost:8080/"
        },
        "id": "FKWktKQGgYLa",
        "outputId": "a8094921-21c4-4594-8fd5-b5b81216ced0"
      },
      "execution_count": null,
      "outputs": [
        {
          "output_type": "execute_result",
          "data": {
            "text/plain": [
              "AdaBoostClassifier(algorithm='SAMME.R', base_estimator=None, learning_rate=1.0,\n",
              "                   n_estimators=50, random_state=8895)"
            ]
          },
          "metadata": {},
          "execution_count": 33
        }
      ]
    },
    {
      "cell_type": "markdown",
      "source": [
        "#### best model found in first experiment\n",
        "AdaBoostClassifier(algorithm='SAMME.R', base_estimator=None, learning_rate=1.0,\n",
        "                   n_estimators=50, random_state=8895)"
      ],
      "metadata": {
        "id": "pzG1CiQlgxkV"
      }
    },
    {
      "cell_type": "code",
      "source": [
        "from sklearn.ensemble import AdaBoostClassifier\n",
        "from sklearn.preprocessing import MinMaxScaler\n",
        "from sklearn.model_selection import train_test_split\n",
        "from sklearn.metrics import precision_score, recall_score"
      ],
      "metadata": {
        "id": "s_TSYdQDjsJI"
      },
      "execution_count": 14,
      "outputs": []
    },
    {
      "cell_type": "code",
      "source": [
        "scaller = MinMaxScaler()\n",
        "\n",
        "best_model = AdaBoostClassifier(algorithm='SAMME.R', base_estimator=None, learning_rate=1.0,\n",
        "                   n_estimators=50, random_state=8895)"
      ],
      "metadata": {
        "id": "dpl_a5kTjpqt"
      },
      "execution_count": 15,
      "outputs": []
    },
    {
      "cell_type": "markdown",
      "source": [
        "#### model training and evaluation"
      ],
      "metadata": {
        "id": "gyzSwRm_V2vT"
      }
    },
    {
      "cell_type": "code",
      "source": [
        "### testing the best model with tester code\n",
        "### splitting the selected data into X(features-independent vars) and y (labels-dependent vars)\n",
        "labels, features = targetFeatureSplit(my_data.values)\n",
        "\n",
        "### ### scalling the data\n",
        "features_scalled  = scaller.fit_transform(features)\n",
        "\n",
        "\n",
        "### split the data in train and test\n",
        "X_train, X_test, y_train, y_test = train_test_split(features_scalled, labels, test_size=0.2, random_state=42)"
      ],
      "metadata": {
        "id": "_ix5qMhzVx5h"
      },
      "execution_count": 16,
      "outputs": []
    },
    {
      "cell_type": "code",
      "source": [
        "### train the model \n",
        "best_model.fit(X_train, y_train)"
      ],
      "metadata": {
        "id": "lS41a4kkehOr",
        "colab": {
          "base_uri": "https://localhost:8080/"
        },
        "outputId": "c73605e6-f172-49eb-c633-3dda627edc54"
      },
      "execution_count": 17,
      "outputs": [
        {
          "output_type": "execute_result",
          "data": {
            "text/plain": [
              "AdaBoostClassifier(random_state=8895)"
            ]
          },
          "metadata": {},
          "execution_count": 17
        }
      ]
    },
    {
      "cell_type": "code",
      "source": [
        "### evaluate the model on testing data\n",
        "### accuracy\n",
        "preds = best_model.predict(X_test)\n",
        "\n",
        "acc = best_model.score(X_test, y_test)\n",
        "print('Accuracy=', acc)\n",
        "\n",
        "prec = precision_score(y_test, preds)\n",
        "print('Precision=', prec)\n",
        "\n",
        "recall = recall_score(y_test, preds)\n",
        "print('Recall=', recall)\n"
      ],
      "metadata": {
        "colab": {
          "base_uri": "https://localhost:8080/"
        },
        "id": "pBQRV5RpXL7k",
        "outputId": "7deb51f2-1e58-468e-f59c-107ed301ce9e"
      },
      "execution_count": 18,
      "outputs": [
        {
          "output_type": "stream",
          "name": "stdout",
          "text": [
            "Accuracy= 0.8620689655172413\n",
            "Precision= 0.5\n",
            "Recall= 0.5\n"
          ]
        }
      ]
    },
    {
      "cell_type": "code",
      "source": [
        "### Task 5: Tune your classifier to achieve better than .3 precision and recall \n",
        "### using our testing script. Check the tester.py script in the final project\n",
        "### folder for details on the evaluation method, especially the test_classifier\n",
        "### function. Because of the small size of the dataset, the script uses\n",
        "### stratified shuffle split cross validation. For more info: \n",
        "### http://scikit-learn.org/stable/modules/generated/sklearn.cross_validation.StratifiedShuffleSplit.html\n",
        "\n",
        "precision, recall, accuracy = test_classifier(best_model, my_dataset, features_list, folds=200)\n",
        "print(f'Precision: {precision}')\n",
        "print(f'Recall: {recall}')\n",
        "print(f'Accuracy: {accuracy}')\n",
        "print()"
      ],
      "metadata": {
        "colab": {
          "base_uri": "https://localhost:8080/"
        },
        "id": "R4RQwzc0hIeS",
        "outputId": "6069c75a-e533-4cc1-e7ed-5600652cb52f"
      },
      "execution_count": 19,
      "outputs": [
        {
          "output_type": "stream",
          "name": "stdout",
          "text": [
            "Precision: 0.3824451410658307\n",
            "Recall: 0.305\n",
            "Accuracy: 0.8416666666666667\n",
            "\n"
          ]
        }
      ]
    },
    {
      "cell_type": "code",
      "source": [
        "#### saving the classifier\n",
        "dump_classifier_and_data(best_model, my_dataset, features_list)"
      ],
      "metadata": {
        "id": "a0Xvly1dJnd_"
      },
      "execution_count": 20,
      "outputs": []
    },
    {
      "cell_type": "code",
      "source": [
        ""
      ],
      "metadata": {
        "id": "NzJj37QcJ4Td"
      },
      "execution_count": 20,
      "outputs": []
    },
    {
      "cell_type": "code",
      "source": [
        ""
      ],
      "metadata": {
        "id": "dB48SjCsKJYh"
      },
      "execution_count": 20,
      "outputs": []
    }
  ]
}